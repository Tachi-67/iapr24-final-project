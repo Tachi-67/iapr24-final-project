{
 "cells": [
  {
   "cell_type": "code",
   "execution_count": 1,
   "metadata": {},
   "outputs": [],
   "source": [
    "import torch"
   ]
  },
  {
   "cell_type": "code",
   "execution_count": 2,
   "metadata": {},
   "outputs": [],
   "source": [
    "import torchvision.models as models\n",
    "\n",
    "# 加载预训练的 ResNet50 模型\n",
    "resnet50 = models.resnet50(weights='IMAGENET1K_V2')"
   ]
  },
  {
   "cell_type": "code",
   "execution_count": 3,
   "metadata": {},
   "outputs": [],
   "source": [
    "import os\n",
    "import xml.etree.ElementTree as ET\n",
    "def parse_xml(xml_file):\n",
    "    tree = ET.parse(xml_file)\n",
    "    root = tree.getroot()\n",
    "    annotations = []\n",
    "    for member in root.findall('object'):\n",
    "        value = member.find('name').text\n",
    "        bndbox = member.find('bndbox')\n",
    "        xmin = int(bndbox.find('xmin').text)\n",
    "        ymin = int(bndbox.find('ymin').text)\n",
    "        xmax = int(bndbox.find('xmax').text)\n",
    "        ymax = int(bndbox.find('ymax').text)\n",
    "        annotations.append((value, (xmin, ymin, xmax, ymax)))\n",
    "    return annotations\n"
   ]
  },
  {
   "cell_type": "code",
   "execution_count": 4,
   "metadata": {},
   "outputs": [
    {
     "data": {
      "text/plain": [
       "[('5CHF', (1726, 1654, 2486, 2468)),\n",
       " ('0.02EUR', (1919, 2978, 2433, 3551)),\n",
       " ('0.02EUR', (2569, 2361, 3143, 2918)),\n",
       " ('0.05EUR', (3079, 2904, 3759, 3471)),\n",
       " ('2EUR', (3069, 1364, 3676, 1994))]"
      ]
     },
     "execution_count": 4,
     "metadata": {},
     "output_type": "execute_result"
    }
   ],
   "source": [
    "# Looking at one parsed XML file\n",
    "xml_file = os.path.join('data', 'temp_train_annotations',  'L1010277.xml')\n",
    "res = parse_xml(xml_file)\n",
    "res"
   ]
  },
  {
   "cell_type": "code",
   "execution_count": 5,
   "metadata": {},
   "outputs": [
    {
     "name": "stdout",
     "output_type": "stream",
     "text": [
      "{'0.05EUR': 0, '1EUR': 1, '0.1CHF': 2, '2CHF': 3, '5CHF': 4, '0.2EUR': 5, '1CHF': 6, '0.5CHF': 7, '0.05CHF': 8, '0.1EUR': 9, '0.5EUR': 10, '2EUR': 11, '0.2CHF': 12, '0.01EUR': 13, '0.02EUR': 14}\n"
     ]
    }
   ],
   "source": [
    "# label string to integer mapping\n",
    "import os\n",
    "import xml.etree.ElementTree as ET\n",
    "\n",
    "def collect_labels(xml_dir):\n",
    "    labels = set()\n",
    "    for xml_file in os.listdir(xml_dir):\n",
    "        if xml_file.endswith('.xml'):\n",
    "            tree = ET.parse(os.path.join(xml_dir, xml_file))\n",
    "            root = tree.getroot()\n",
    "            for member in root.findall('object'):\n",
    "                labels.add(member.find('name').text)\n",
    "    return labels\n",
    "\n",
    "# 创建标签到索引的映射\n",
    "label_set = collect_labels(os.path.join('data', 'temp_train_annotations'))\n",
    "label_to_index = {label: idx for idx, label in enumerate(label_set)}\n",
    "\n",
    "# 示例：显示映射\n",
    "print(label_to_index)\n"
   ]
  },
  {
   "cell_type": "code",
   "execution_count": 6,
   "metadata": {},
   "outputs": [],
   "source": [
    "# the dataset class\n",
    "from torch.utils.data import Dataset, DataLoader\n",
    "import torchvision.transforms as transforms\n",
    "from PIL import Image\n",
    "\n",
    "class CoinDataset(Dataset):\n",
    "    def __init__(self, root_dir, transform=None):\n",
    "        # temp root = data/temp_train\n",
    "        # temp anno = data/temp_train_annotations\n",
    "        self.root_dir = root_dir\n",
    "        self.transform = transform\n",
    "        self.img_files = [os.path.join(root_dir, file) for file in os.listdir(root_dir) if file.endswith('.JPG')] # list of all image files\n",
    "        self.annotations = [parse_xml(file.replace('.JPG', '.xml')) for file in self.img_files] # list of lists, each list contains tuples of value and bounding box coordinates\n",
    "\n",
    "    def __len__(self):\n",
    "        return len(self.img_files)\n",
    "\n",
    "    def __getitem__(self, idx):\n",
    "        img_path = self.img_files[idx]\n",
    "        image = Image.open(img_path).convert('RGB')\n",
    "        annotations = self.annotations[idx]\n",
    "        \n",
    "        coins = []\n",
    "        for value, (xmin, ymin, xmax, ymax) in annotations:\n",
    "            coin = image.crop((xmin, ymin, xmax, ymax))\n",
    "            if self.transform:\n",
    "                coin = self.transform(coin)\n",
    "            coins.append((coin, value))\n",
    "        \n",
    "        return coins\n"
   ]
  },
  {
   "cell_type": "code",
   "execution_count": 7,
   "metadata": {},
   "outputs": [],
   "source": [
    "transform = transforms.Compose([\n",
    "    transforms.Resize((224, 224)),\n",
    "    transforms.ToTensor(),\n",
    "    transforms.Normalize(mean=[0.485, 0.456, 0.406], std=[0.229, 0.224, 0.225]),\n",
    "])\n",
    "\n",
    "dataset = CoinDataset(root_dir=os.path.join('data', 'temp_train'), transform=transform)\n"
   ]
  },
  {
   "cell_type": "code",
   "execution_count": 20,
   "metadata": {},
   "outputs": [
    {
     "data": {
      "text/plain": [
       "tensor([[[1.4612, 1.4440, 1.4612,  ..., 1.4269, 1.4098, 1.3927],\n",
       "         [1.4440, 1.4612, 1.4612,  ..., 1.4269, 1.3927, 1.3755],\n",
       "         [1.4612, 1.4440, 1.4612,  ..., 1.4269, 1.4269, 1.3584],\n",
       "         ...,\n",
       "         [1.4440, 1.4269, 1.4269,  ..., 1.4440, 1.4440, 1.4269],\n",
       "         [1.4269, 1.4269, 1.4269,  ..., 1.4269, 1.4269, 1.4440],\n",
       "         [1.4098, 1.4098, 1.4269,  ..., 1.4269, 1.4440, 1.4612]],\n",
       "\n",
       "        [[1.5532, 1.5357, 1.5532,  ..., 1.5532, 1.5532, 1.5357],\n",
       "         [1.5357, 1.5532, 1.5532,  ..., 1.5532, 1.5357, 1.5182],\n",
       "         [1.5532, 1.5357, 1.5532,  ..., 1.5707, 1.5707, 1.5182],\n",
       "         ...,\n",
       "         [1.4832, 1.4657, 1.4657,  ..., 1.5357, 1.5357, 1.5182],\n",
       "         [1.4832, 1.4657, 1.4657,  ..., 1.5182, 1.5182, 1.5357],\n",
       "         [1.4832, 1.4657, 1.4657,  ..., 1.5182, 1.5357, 1.5532]],\n",
       "\n",
       "        [[1.7163, 1.6988, 1.7163,  ..., 1.7337, 1.6988, 1.6814],\n",
       "         [1.6988, 1.7163, 1.7163,  ..., 1.7163, 1.6988, 1.6640],\n",
       "         [1.7163, 1.6988, 1.7163,  ..., 1.7163, 1.7163, 1.6640],\n",
       "         ...,\n",
       "         [1.5594, 1.5420, 1.5420,  ..., 1.6988, 1.6988, 1.6814],\n",
       "         [1.5594, 1.5420, 1.5420,  ..., 1.6814, 1.6814, 1.6988],\n",
       "         [1.5420, 1.5420, 1.5420,  ..., 1.6814, 1.6988, 1.7163]]])"
      ]
     },
     "execution_count": 20,
     "metadata": {},
     "output_type": "execute_result"
    }
   ],
   "source": [
    "type(dataset[0]) # a list of tuples, each tuple represents a coin and its value\n",
    "len(dataset[0])\n",
    "type(dataset[0][0])\n",
    "dataset[0][0][0]"
   ]
  },
  {
   "cell_type": "code",
   "execution_count": 8,
   "metadata": {},
   "outputs": [],
   "source": [
    "def collate_fn(batch):\n",
    "    images = []\n",
    "    labels = []\n",
    "    # 遍历batch中的每一个元素，每个元素都是一个图片中的多个硬币\n",
    "    for item in batch:\n",
    "        for coin, label in item:\n",
    "            images.append(coin)           # 添加每个硬币的图像\n",
    "            labels.append(label_to_index[label])  # 使用映射转换标签\n",
    "\n",
    "    # 将images列表转换为一个tensor，labels列表转换为一个tensor\n",
    "    images = torch.stack(images)\n",
    "    labels = torch.tensor(labels, dtype=torch.int64)\n",
    "\n",
    "    return images, labels\n",
    "\n",
    "\n",
    "data_loader = DataLoader(dataset, batch_size=8, shuffle=True, collate_fn=collate_fn)"
   ]
  },
  {
   "cell_type": "code",
   "execution_count": 9,
   "metadata": {},
   "outputs": [
    {
     "data": {
      "text/plain": [
       "device(type='cuda')"
      ]
     },
     "execution_count": 9,
     "metadata": {},
     "output_type": "execute_result"
    }
   ],
   "source": [
    "device = torch.device(\"cuda\" if torch.cuda.is_available() else \"cpu\")\n",
    "device"
   ]
  },
  {
   "cell_type": "code",
   "execution_count": 10,
   "metadata": {},
   "outputs": [
    {
     "name": "stderr",
     "output_type": "stream",
     "text": [
      "e:\\Anaconda\\envs\\iapr\\lib\\site-packages\\torchvision\\models\\_utils.py:208: UserWarning: The parameter 'pretrained' is deprecated since 0.13 and may be removed in the future, please use 'weights' instead.\n",
      "  warnings.warn(\n",
      "e:\\Anaconda\\envs\\iapr\\lib\\site-packages\\torchvision\\models\\_utils.py:223: UserWarning: Arguments other than a weight enum or `None` for 'weights' are deprecated since 0.13 and may be removed in the future. The current behavior is equivalent to passing `weights=ResNet50_Weights.IMAGENET1K_V1`. You can also use `weights=ResNet50_Weights.DEFAULT` to get the most up-to-date weights.\n",
      "  warnings.warn(msg)\n"
     ]
    }
   ],
   "source": [
    "import torchvision.models as models\n",
    "\n",
    "# 加载预训练的 ResNet50 模型\n",
    "model = models.resnet50(pretrained=True)\n",
    "\n",
    "# 修改最后一个全连接层以匹配硬币分类的类别数\n",
    "num_classes = len(label_to_index)  # 假设你已经有了标签索引\n",
    "model.fc = torch.nn.Linear(model.fc.in_features, num_classes)\n",
    "\n",
    "model = model.to(device)"
   ]
  },
  {
   "cell_type": "code",
   "execution_count": 11,
   "metadata": {},
   "outputs": [],
   "source": [
    "criterion = torch.nn.CrossEntropyLoss()\n",
    "optimizer = torch.optim.Adam(model.parameters(), lr=0.001)\n"
   ]
  },
  {
   "cell_type": "code",
   "execution_count": 12,
   "metadata": {},
   "outputs": [],
   "source": [
    "def train_model(model, data_loader, criterion, optimizer, num_epochs=5):\n",
    "    model.train()  # 将模型设置为训练模式\n",
    "    for epoch in range(num_epochs):\n",
    "        running_loss = 0.0\n",
    "        for images, labels in data_loader:\n",
    "            images, labels = images.to(device), labels.to(device)\n",
    "            \n",
    "            # 清除之前的梯度\n",
    "            optimizer.zero_grad()\n",
    "            \n",
    "            # 正向传播\n",
    "            outputs = model(images)\n",
    "            \n",
    "            # 计算损失\n",
    "            loss = criterion(outputs, labels)\n",
    "            \n",
    "            # 反向传播\n",
    "            loss.backward()\n",
    "            \n",
    "            # 优化器步骤\n",
    "            optimizer.step()\n",
    "            \n",
    "            # 累加损失\n",
    "            running_loss += loss.item()\n",
    "        \n",
    "        # 打印每个epoch的损失\n",
    "        print(f'Epoch {epoch+1}, Loss: {running_loss/len(data_loader)}')\n"
   ]
  },
  {
   "cell_type": "code",
   "execution_count": 13,
   "metadata": {},
   "outputs": [
    {
     "name": "stdout",
     "output_type": "stream",
     "text": [
      "Epoch 1, Loss: 2.6721158027648926\n",
      "Epoch 2, Loss: 1.2421990036964417\n",
      "Epoch 3, Loss: 0.6557349562644958\n",
      "Epoch 4, Loss: 0.31325186789035797\n",
      "Epoch 5, Loss: 0.16929294541478157\n"
     ]
    }
   ],
   "source": [
    "train_model(model, data_loader, criterion, optimizer, num_epochs=5)\n"
   ]
  },
  {
   "cell_type": "code",
   "execution_count": 14,
   "metadata": {},
   "outputs": [
    {
     "name": "stdout",
     "output_type": "stream",
     "text": [
      "Predicted class: 2CHF, Probability: 0.44478124380111694\n"
     ]
    }
   ],
   "source": [
    "model.eval()  # 设置模型为评估模式\n",
    "\n",
    "def predict_image(image_path, model, transform, device):\n",
    "    image = Image.open(image_path).convert('RGB')\n",
    "    image = transform(image)\n",
    "    image = image.unsqueeze(0)  # 添加batch维度\n",
    "    image = image.to(device)\n",
    "\n",
    "    with torch.no_grad():\n",
    "        output = model(image)\n",
    "        probabilities = torch.nn.functional.softmax(output[0], dim=0)\n",
    "        top_prob, top_catid = torch.topk(probabilities, 1)\n",
    "\n",
    "    # 反转label_to_index字典\n",
    "    index_to_label = {v: k for k, v in label_to_index.items()}\n",
    "\n",
    "    return index_to_label[top_catid.item()], top_prob.item()\n",
    "\n",
    "# 示例推理\n",
    "test_image_path = os.path.join('data', '1.jpg')\n",
    "predicted_class, probability = predict_image(test_image_path, model, transform, device)\n",
    "print(f\"Predicted class: {predicted_class}, Probability: {probability}\")"
   ]
  }
 ],
 "metadata": {
  "kernelspec": {
   "display_name": "iapr",
   "language": "python",
   "name": "python3"
  },
  "language_info": {
   "codemirror_mode": {
    "name": "ipython",
    "version": 3
   },
   "file_extension": ".py",
   "mimetype": "text/x-python",
   "name": "python",
   "nbconvert_exporter": "python",
   "pygments_lexer": "ipython3",
   "version": "3.10.14"
  }
 },
 "nbformat": 4,
 "nbformat_minor": 2
}
